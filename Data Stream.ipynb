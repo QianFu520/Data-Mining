{
 "cells": [
  {
   "cell_type": "code",
   "execution_count": 5,
   "metadata": {},
   "outputs": [],
   "source": [
    "import matplotlib.pyplot as plt\n",
    "%matplotlib inline\n"
   ]
  },
  {
   "cell_type": "markdown",
   "metadata": {},
   "source": [
    "## Sampling a Data Stream"
   ]
  },
  {
   "cell_type": "markdown",
   "metadata": {},
   "source": [
    "The TwitterStream class defined below is used to simulate a Twitter stream. It works the same way as a list, tuple or any other iterables that you may have worked with before --- you can loop over it to receive one tweet at a time. Each tweet may or may not contain emojis. There's also a helper function extract_emojis that helps you extract all emojis from a piece of text. It may be also useful to know that the variable UNICODE_EMOJI is a collection of all emojis that are circulating around the world."
   ]
  },
  {
   "cell_type": "code",
   "execution_count": 6,
   "metadata": {},
   "outputs": [],
   "source": [
    "import json\n",
    "import emoji\n",
    "import re\n",
    "\n",
    "def extract_emojis(text):\n",
    "    \"\"\"\n",
    "    Extract all emojis from a str using regular expressions\n",
    "    \"\"\"\n",
    "    emoji_pattern = re.compile(r'[\\U0001F600-\\U0001F64F\\U0001F300-\\U0001F5FF\\U0001F680-\\U0001F6FF\\U0001F700-\\U0001F77F\\U0001F780-\\U0001F7FF\\U0001F800-\\U0001F8FF\\U0001F900-\\U0001F9FF\\U0001FA00-\\U0001FA6F\\U0001FA70-\\U0001FAFF\\U0001F200-\\U0001F251\\u200D♂️\\u200D♀️]+')\n",
    "    return emoji_pattern.findall(text)\n",
    "\n",
    "class TwitterStream:\n",
    "    \"\"\"\n",
    "    Used to simulate a Twitter stream. \n",
    "    \"\"\"\n",
    "    \n",
    "    def __init__(self, data_file):\n",
    "        self.data_file = data_file\n",
    "        self.data = open(self.data_file, \"r\")\n",
    "    \n",
    "    def __iter__(self):\n",
    "        return self.reset()\n",
    "    \n",
    "    def __next__(self):\n",
    "        next_line = self.data.readline()\n",
    "        if next_line:\n",
    "            return json.loads(next_line)[\"text\"]\n",
    "        else:\n",
    "            raise StopIteration\n",
    "    \n",
    "    def __del__(self):\n",
    "        if not self.data.closed:\n",
    "            self.data.close()\n",
    "    \n",
    "    def reset(self):\n",
    "        if not self.data.closed:\n",
    "            self.data.close()\n",
    "        self.data = open(self.data_file, \"r\")\n",
    "        return self"
   ]
  },
  {
   "cell_type": "markdown",
   "metadata": {},
   "source": [
    "### Random Sampling"
   ]
  },
  {
   "cell_type": "code",
   "execution_count": 7,
   "metadata": {},
   "outputs": [],
   "source": [
    "from collections import defaultdict\n",
    "from random import Random\n",
    "\n",
    "# Define HistPresvRandom\n",
    "class HistPresvRandom:\n",
    "    \"\"\"\n",
    "    History-preserving Random Number Generator\n",
    "    \"\"\"\n",
    "    \n",
    "    def __init__(self, seed=None):\n",
    "        self.prg = Random(seed)\n",
    "        self.hist = defaultdict(list)\n",
    "    \n",
    "    def random(self): # works exactly like random.random()\n",
    "        num = self.prg.random()\n",
    "        self.hist[\"random\"].append(num)\n",
    "        return num\n",
    "    \n",
    "    def sample(self, population): # works exactly like random.sample(population, 1)[0]\n",
    "        num = self.prg.sample(population, 1)[0]\n",
    "        self.hist[\"sample\"].append(num)\n",
    "        return num\n",
    "## Define random sampling algorithm\n",
    "class RandomSampler:\n",
    "    \n",
    "    def __init__(self, in_sample_prob, seed=None):\n",
    "        \n",
    "        self.in_sample_prob = in_sample_prob\n",
    "        self.random = HistPresvRandom(seed) # used whenever randomness is needed in your solution\n",
    "        self.sample, self.counts = list(), defaultdict(int) # recommended to use defaultdict, but an ordinary dict works fine too\n",
    "    \n",
    "    def _process_new_item(self, item):\n",
    "        \"\"\"\n",
    "        Applies random sampling to a newly arrived item\n",
    "        \"\"\"\n",
    "\n",
    "        if self.random.random() < self.in_sample_prob:\n",
    "            self.sample.append(item)\n",
    "            \n",
    "            for emoji in extract_emojis(item):\n",
    "                self.counts[emoji] += 1\n",
    "            \n",
    "      \n",
    "    \n",
    "    def do_sampling(self, stream):\n",
    "        \"\"\"\n",
    "        Iterates over a stream and performs random sampling\n",
    "        \"\"\"\n",
    "        \n",
    "        self.sample.clear() # clear the existing sample\n",
    "        self.counts.clear() # clear the existing counts\n",
    "        \n",
    "        for item in stream:\n",
    "            # iterate over the stream\n",
    "            self._process_new_item(item)\n",
    "            \n",
    "            # returns a copy of sample and counts at the end of every iteration for grading - code given\n",
    "            yield self.sample.copy(), self.counts.copy()"
   ]
  },
  {
   "cell_type": "markdown",
   "metadata": {},
   "source": [
    "Now, let's see what the emoji distribution is after all tweets are processed"
   ]
  },
  {
   "cell_type": "code",
   "execution_count": 8,
   "metadata": {},
   "outputs": [
    {
     "name": "stdout",
     "output_type": "stream",
     "text": [
      "{'️': 141, '😂': 34, '🥺': 19, '😍': 16, '😭': 15, '😊': 12, '😂😂😂': 11, '🤣': 10, '🔥': 9, '😭😭': 8, '🤔': 8, '😂😂': 7, '😆': 7, '💛': 7, '👍': 7, '💕': 6, '🥰': 6, '🌟': 6, '😁': 6, '💦': 6, '😎': 6, '😢': 6, '🤭': 6, '💪': 5, '😂😂😂😂': 5, '🦋': 5, '👇': 5, '🙄': 5, '🎉': 5, '😅': 5, '😘': 4, '🌸': 4, '🌺': 4, '👏': 4, '💙': 4, '🚨🚨': 4, '🗣': 4, '😳': 4, '🥳': 4, '🏅': 4, '😌': 3, '😔': 3, '🏻': 3, '💝': 3, '😩': 3, '🔃': 3, '🤾\\u200d♂️': 3, '🍑': 3, '😺': 3, '🔥🔥': 3, '🤣🤣': 3, '😈': 3, '👋': 3, '👀': 3, '💗': 3, '🐰': 3, '💖': 3, '📱': 3, '😥': 3, '💭': 3, '💚': 3, '🐶': 2, '💔': 2, '🙌': 2, '🥴': 2, '😡': 2, '😱😱😱': 2, '📢': 2, '😆😆': 2, '🖤': 2, '💎': 2, '🗣️': 2, '🥵': 2, '🎀': 2, '🔒': 2, '🙂': 2, '👏🏻': 2, '🙃': 2, '😇': 2, '😃': 2, '🥺🥺🥺': 2, '👋🏻': 2, '🙏': 2, '🤩': 2, '🎈': 2, '😍😍': 2, '💥': 2, '😴': 2, '😂🤣': 2, '🤨': 2, '👉': 2, '🥺🥺': 2, '🤣🤣🤣': 2, '😷': 2, '🎵': 2, '🙏🏾': 2, '🥇': 2, '💠': 2, '💣': 2, '👏👏': 2, '🍒': 2, '🎊': 2, '💢': 2, '🔴': 2, '💃': 2, '🙇🏻': 2, '🌚': 2, '🎁': 2, '💜': 2, '👉🏽': 2, '♂': 2, '💫': 2, '🔹': 2, '🔠': 2, '💘💘💘': 1, '😔😔': 1, '😍😍😍😍😍': 1, '😙😙😙': 1, '🙏🏻': 1, '👆': 1, '🥵🥵🥵🥵🤘🏻🤘🏻🙏🏻🙏🏻': 1, '🥱': 1, '💖🍑': 1, '🎴': 1, '️👰🏻💐': 1, '🔥🔥🔥🙌🏻👏🏻': 1, '🕺': 1, '🧠': 1, '😉': 1, '😭😭😭😭😭😭': 1, '😐😐😐': 1, '💌': 1, '💞': 1, '🙏👏👏👏': 1, '🏅🏅🏅👑👑🔥🔥': 1, '🙏😎😉💦🥺': 1, '🤤': 1, '🤍': 1, '😊🥰': 1, '💻': 1, '🥰🥰🥰': 1, '💗💓': 1, '😍💗💓': 1, '💘': 1, '🐕': 1, '🐠': 1, '🦀': 1, '🙅\\u200d♀️': 1, '🍂': 1, '😇😇😇': 1, '🤣🤣🤣🤣': 1, '💚🤲🏽': 1, '😟': 1, '🤪': 1, '👎😂': 1, '🥺🥺💕': 1, '😑': 1, '😩😩😩😩😩😩': 1, '😎😎😎': 1, '👏🏾👏🏾👏🏾👏🏾👏🏾👏🏾': 1, '🏽💜': 1, '🤧😭😭😣😰😨😯😢😥😥😱😱😤😤': 1, '🖤🖤🖤🖤🖤': 1, '😂😂😂😂😂😂😂😂😂😂': 1, '💔💔': 1, '😷😷😷😷😷👍👍👍👍👍': 1, '🤕': 1, '👩🏻\\u200d🌾': 1, '🔗': 1, '👻': 1, '👏🏻👏🏻': 1, '🐝': 1, '😞': 1, '️🚀🏐': 1, '🤢🥴': 1, '🚫🧢': 1, '😄💦': 1, '💚💚💚💚💚💚💚💚💚💚': 1, '🎊🎉🎉🎉🎉': 1, '🙇': 1, '🐙': 1, '🍛': 1, '🍰': 1, '😭😭😂😂': 1, '🤮': 1, '🥺😱😂': 1, '😐': 1, '😝💕': 1, '🦉': 1, '🤷🏻\\u200d♀️': 1, '🙄😅': 1, '😚😚😚': 1, '🙊': 1, '😭😭😭': 1, '🌸🌱🍋': 1, '💜💜💜': 1, '🤡🤡🤡': 1, '♀': 1, '🤪🤪🤪🤪': 1, '😂😂😂😂😂😂😂😂😂😂😂': 1, '🙏🙏🙏💥': 1, '🤎': 1, '👣': 1, '🦞': 1, '🌹💞': 1, '🤫🤫🤫': 1, '💶': 1, '👇🏻': 1, '💪💪💪': 1, '🏃🏻\\u200d♀': 1, '🤐': 1, '😻💕': 1, '📼': 1, '📣': 1, '😕😁': 1, '🤣🤣💀💯': 1, '👩🏽\\u200d🍳': 1, '😭😂😂💀': 1, '🥋': 1, '😭💜💛': 1, '️🙋\\u200d♀️': 1, '📥': 1, '👏🙌': 1, '🌈🌸': 1, '🏴': 1, '🥋🗯️': 1, '🤙🏿': 1, '🎮': 1, '🥕': 1, '😉🏃🏻\\u200d♀️🏃🏻\\u200d♀️🏃🏻\\u200d♀️': 1, '😂💖💖': 1, '😳😆': 1, '🔥🔥🔥🔥🔥🔥🔥🔥': 1, '😅😅😅': 1, '🍍🍍🍍🍍🍍🍍🍍🍍🍍🍍🍍🍍🍍🍍': 1, '🙏🏽': 1, '🙃🙃': 1, '💀💀': 1, '🔟': 1, '🌠': 1, '😚': 1, '🏼': 1, '😋😋': 1, '🤦🏽\\u200d♀️': 1, '😠😡😷🙄👇🙄': 1, '😳😳😳': 1, '🐰💖': 1, '💀💀💀💀😂😂😂😂😂😂': 1, '🙂🙂': 1, '️💓💓🤩🥰🥰🥰': 1, '🙄🤭': 1, '😭😭😭😭😭😭😭😭😭😭': 1, '🎤': 1, '👏🏼': 1, '😍🔥': 1, '😂😂😂😂😂😂': 1, '♀️': 1, '🥰💙': 1, '👯\\u200d♂️': 1, '😅😅😅😎🦠🤣👍': 1, '🤙🏻': 1, '💜💜💜💜💜💜💜': 1, '🤦🏻\\u200d♂️': 1, '🙏🏽🙏🏽': 1, '😆👍️': 1, '🙆🏻\\u200d♂️': 1, '😄😄😄': 1, '🌝': 1, '👉👈': 1, '🤣🤣😂': 1, '🧟\\u200d♀️': 1, '🐨🐨🐨': 1, '🐨🎁': 1, '😩😩': 1, '😲': 1, '🤞': 1, '👇👇👇👇': 1, '🙌🏻🙏🏻': 1, '🐷': 1, '🤣😭🤣😭🤣😭': 1, '🥺🙊': 1, '🌌': 1, '😂😂😂😂😂😂😂😂😂😂😂😂': 1, '😂🤣😹': 1, '💰': 1, '😘😘': 1, '🙏🏾🙌🏾': 1, '😜😜': 1, '😒': 1, '🐴': 1, '😂😂😂😂😎😎😎😂😂': 1, '👍👍😎😂😂': 1, '💗💗': 1, '️💖💝': 1, '🍻': 1, '💰💰': 1, '👏🏽👏🏽👏🏽': 1, '👎🏽😕🙈': 1, '😈🎶': 1, '🔞': 1, '🛑': 1, '😂😂💖': 1, '💖🤩🤰': 1, '😬': 1, '😂😂🤣🤣': 1, '🤚🏾': 1, '️🐑': 1, '💧': 1, '😱': 1, '🤷\\u200d♀️': 1, '😹': 1, '😝': 1, '👩\\u200d': 1, '️\\u200d👨💓': 1, '🌈': 1, '🦠': 1, '🚫': 1, '😌😌': 1, '🌹': 1, '🥈': 1, '🥉': 1, '😢😢😢😢': 1, '🤬': 1, '🤤🤤🤤': 1, '🍫': 1, '😤': 1, '🌷🐨🌷': 1, '😢🌱': 1, '😀😀😀': 1, '🍻🤙🏻': 1, '😍💜💚': 1, '👌': 1, '🍣': 1, '🐸😎': 1, '🔥💪': 1, '😲💕💕': 1, '😂😂😂😂😂😂😂😂😂': 1, '🔥🥳': 1, '🌌🌾🧚🏻\\u200d♀️': 1, '😳😂': 1, '🚶': 1, '👍👍👍': 1, '😆🤣': 1, '😅🤣🤣😂😅🤣': 1, '🤟🏻': 1, '🤤🥵': 1, '🤭💎🎀😳': 1, '💕💕💕': 1, '🥺😭💔': 1, '👨\\u200d👩\\u200d👧\\u200d👧': 1, '😜': 1, '🤷🏼\\u200d♀️🤭': 1, '😢😢': 1, '🧐': 1, '📸🎞': 1, '🚨': 1, '🔁': 1, '🙏🙏🙏🙏🙏🙏🙏🙏🙏': 1, '😂😂😂😂😌': 1, '🍊🍊': 1, '👏👏🙏🙏': 1, '️🙌🏽': 1, '😳🙁😅😅': 1, '😔😭😔😭': 1, '😪': 1, '📍': 1, '🎸🎸🥁🥁': 1, '🖤🖤': 1, '😭😭😭💛': 1, '🛌': 1, '💣💣💣': 1, '👍😏': 1, '👑💛': 1, '😳😳': 1, '😋': 1, '👍👍💪💪😤😤': 1, '💎💍': 1, '💍💎': 1, '🐿': 1, '🤪🤞🏻': 1, '🥰🥰': 1, '😈😈😈': 1, '💕😍': 1, '🐐': 1, '😗': 1, '🏽': 1, '😃👍🏻': 1, '🌙': 1, '🔥🔥🔥🔥🔥🔥': 1, '🍇': 1, '️🥰': 1, '🤦🏾\\u200d♂️🤦🏾\\u200d♂️🤦🏾\\u200d♂️': 1, '😂😂😭😭': 1, '🤓': 1, '😂😂😂😭': 1, '💻📲': 1, '🤣😉': 1, '😈🧟': 1, '🔴🔴': 1, '🌹🌹🌹🌹': 1, '👊👊👊': 1, '👍👍👍👍👍👍🙏🙏🙏': 1, '🏻🙌🏻': 1, '🤭🤭🤭': 1, '🏳️\\u200d🌈': 1, '😂😹😹😹😹😹😹😹😹': 1, '💪💪': 1, '️🙏🏻': 1, '🥂': 1, '🐾': 1, '💕🐬💕🐬💕🐬💕🐬💕🐬💕': 1, '😂😂😂🤦🏾\\u200d♂️': 1, '😛': 1, '🔵': 1, '🤔😂': 1, '🐶🍑🐰': 1, '😤😩': 1, '😍😊': 1, '💯': 1, '👌🏽': 1, '😅😅😅😅': 1, '🏆': 1, '🤣🤣🤣🤣🤣🤣🤣': 1, '👏👏👏': 1, '😭💜': 1, '🤷\\u200d♀️🤷\\u200d♀️🤷\\u200d♀️🤷\\u200d♀️🤷\\u200d♀️': 1, '🌹💙': 1, '🤟': 1, '💙💙💙💙💙': 1, '🐯': 1, '👤': 1, '🙂💁🏻\\u200d♀️': 1}\n"
     ]
    }
   ],
   "source": [
    "in_sample_prob, seed = 0.1, 42\n",
    "ran_emo = RandomSampler(in_sample_prob, seed)\n",
    "\n",
    "# Do sampling. Don't have to collect the results. Just exhaust the stream\n",
    "for _ in ran_emo.do_sampling(TwitterStream(\"Data/tweets\")):\n",
    "    pass\n",
    "\n",
    "sorted_counts = {emoji: ran_emo.counts[emoji] for emoji in sorted(ran_emo.counts.keys(), key=ran_emo.counts.get, reverse=True)}\n",
    "print(sorted_counts)"
   ]
  },
  {
   "cell_type": "markdown",
   "metadata": {},
   "source": [
    "### Reservior Sampling"
   ]
  },
  {
   "cell_type": "code",
   "execution_count": 9,
   "metadata": {},
   "outputs": [],
   "source": [
    "from collections import defaultdict\n",
    "\n",
    "class ReservoirSampler:\n",
    "    \n",
    "    def __init__(self, sample_size, seed=None):\n",
    "        \n",
    "        self.sample_size = sample_size\n",
    "        self.random = HistPresvRandom(seed) # used whenever randomness is needed in your solution\n",
    "        self.sample, self.counts = list(), defaultdict(int)\n",
    "    \n",
    "    def _process_new_item(self, item, index):\n",
    "        \"\"\"\n",
    "        Decides whether a new item should be added to the sample and adjusts the counts accordingly\n",
    "        \"\"\"\n",
    "        \n",
    "        \n",
    "        prob = self.sample_size / (index + 1)\n",
    "        \n",
    "        if self.random.random() <= prob:\n",
    "            idx_to_remove = self.random.sample(range(self.sample_size))\n",
    "            removed_item = self.sample.pop(idx_to_remove)\n",
    "            \n",
    "            for emoji in extract_emojis(removed_item):\n",
    "                self.counts[emoji] -= 1\n",
    "                if self.counts[emoji] <= 0:\n",
    "                    del self.counts[emoji]\n",
    "            self.sample.append(item)\n",
    "            \n",
    "            for emoji in extract_emojis(item):\n",
    "                self.counts[emoji] += 1\n",
    "     \n",
    "    \n",
    "    def do_sampling(self, stream):\n",
    "        \"\"\"\n",
    "        Iterates over a stream and performs reservoir sampling\n",
    "        \"\"\"\n",
    "        \n",
    "        self.sample.clear() # clear the existing sample\n",
    "        self.counts.clear() # clear the existing counts\n",
    "        \n",
    "        for index, item in enumerate(stream): # iterate over the stream\n",
    "\n",
    "            \n",
    "            \n",
    "            if index < self.sample_size:\n",
    "                self.sample.append(item)\n",
    "                for emoji in extract_emojis(item):\n",
    "                    self.counts[emoji] += 1\n",
    "            else:\n",
    "                self._process_new_item(item, index)\n",
    "                    \n",
    "            \n",
    "            \n",
    "            # returns a copy of sample and counts at the end of every iteration for grading - code given\n",
    "            yield self.sample.copy(), self.counts.copy()"
   ]
  },
  {
   "cell_type": "markdown",
   "metadata": {},
   "source": [
    "Let's see what the emoji distribution is after all tweets processed."
   ]
  },
  {
   "cell_type": "code",
   "execution_count": 10,
   "metadata": {},
   "outputs": [
    {
     "name": "stdout",
     "output_type": "stream",
     "text": [
      "{'️': 14, '💙': 7, '😂': 4, '🥰🥰🥰🥰': 3, '😭😭': 3, '👍': 2, '😍': 2, '👑': 2, '💕': 1, '😏': 1, '🎶': 1, '😘😘': 1, '️🎵': 1, '🥺🥺🥺🥺🥺🥰🥰🥰🥰🥰😭😭😭': 1, '😭😭😭😭': 1, '🐟': 1, '🐰': 1, '👫': 1, '👩\\u200d': 1, '️\\u200d💋\\u200d👩': 1, '😈': 1, '🥰💚🏀🏈🎤': 1, '😠': 1, '🙃🙃': 1, '🌈': 1, '😋😋': 1, '🏼': 1, '😭😭😭😭😭😭😭😭😭😭': 1, '😷': 1, '🤦🏻\\u200d♂️': 1, '😂😂😂😂': 1, '🤓': 1, '🤷🏿\\u200d♂️': 1, '🔥': 1, '🐳': 1, '💰': 1, '🥇': 1, '👏🔥': 1, '👉': 1, '🏆🏆🏆': 1, '🦾': 1, '😞': 1, '💙📸': 1, '🤑': 1, '🙏🏾': 1, '️😍🙆🏽\\u200d♂️': 1, '🍪': 1, '😇': 1, '😉': 1, '🥴': 1, '😩': 1, '🏯': 1, '🦅': 1, '😱': 1, '😓': 1, '👇': 1, '🤗': 1, '🥺💓': 1, '😍😍😍😍': 1, '😤😩': 1, '😭🐱🐥🍼💕': 1, '😪🥺': 1}\n"
     ]
    }
   ],
   "source": [
    "sample_size, seed = 100, 0\n",
    "stu_ans = ReservoirSampler(sample_size, seed)\n",
    "\n",
    "# Do sampling. Don't have to collect the results. Just exhaust the stream\n",
    "for _ in stu_ans.do_sampling(TwitterStream(\"Data/tweets\")):\n",
    "    pass\n",
    "\n",
    "sorted_counts = {emoji: stu_ans.counts[emoji] for emoji in sorted(stu_ans.counts.keys(), key=stu_ans.counts.get, reverse=True)}\n",
    "print(sorted_counts)"
   ]
  }
 ],
 "metadata": {
  "kernelspec": {
   "display_name": "Python (dojo-env)",
   "language": "python",
   "name": "dojo-env"
  },
  "language_info": {
   "codemirror_mode": {
    "name": "ipython",
    "version": 3
   },
   "file_extension": ".py",
   "mimetype": "text/x-python",
   "name": "python",
   "nbconvert_exporter": "python",
   "pygments_lexer": "ipython3",
   "version": "3.8.13"
  }
 },
 "nbformat": 4,
 "nbformat_minor": 2
}
